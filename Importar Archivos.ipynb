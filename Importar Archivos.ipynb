{
 "cells": [
  {
   "cell_type": "code",
   "execution_count": 1,
   "id": "814a3eec",
   "metadata": {},
   "outputs": [],
   "source": [
    "import pandas as pd"
   ]
  },
  {
   "cell_type": "code",
   "execution_count": 4,
   "id": "2d0853bd",
   "metadata": {},
   "outputs": [
    {
     "name": "stdout",
     "output_type": "stream",
     "text": [
      "                    Name Type 1  HP  Attack  Defense\n",
      "0              Bulbasaur  Grass  45      49       49\n",
      "1                Ivysaur  Grass  60      62       63\n",
      "2               Venusaur  Grass  80      82       83\n",
      "3  VenusaurMega Venusaur  Grass  80     100      123\n",
      "4             Charmander   Fire  39      52       43\n"
     ]
    }
   ],
   "source": [
    "#URL Github archivo TXT\n",
    "url ='https://raw.githubusercontent.com/SebastianFurquet/DataSets_Prueba/main/pokemon_data.txt'\n",
    "df= pd.read_csv(url, delimiter='\\t')\n",
    "print(df[['Name','Type 1','HP','Attack','Defense']].head())"
   ]
  },
  {
   "cell_type": "code",
   "execution_count": 10,
   "id": "429aa79e",
   "metadata": {},
   "outputs": [
    {
     "name": "stdout",
     "output_type": "stream",
     "text": [
      "   density    pH  sulphates  alcohol  quality\n",
      "0   0.9978  3.51       0.56      9.4        5\n",
      "1   0.9968  3.20       0.68      9.8        5\n",
      "2   0.9970  3.26       0.65      9.8        5\n",
      "3   0.9980  3.16       0.58      9.8        6\n",
      "4   0.9978  3.51       0.56      9.4        5\n"
     ]
    }
   ],
   "source": [
    "#URL Github archivo CSV\n",
    "url_2 = 'https://raw.githubusercontent.com/SebastianFurquet/DataSets_Prueba/main/winequality-red.csv'\n",
    "df_2 = pd.read_csv(url_2,sep=',')\n",
    "print(df_2[['density','pH','sulphates','alcohol','quality']].head())"
   ]
  },
  {
   "cell_type": "code",
   "execution_count": null,
   "id": "61c6adc5",
   "metadata": {},
   "outputs": [],
   "source": [
    "#URL Github archivo Excel (Github no me da la url, me descarga el archivo de una.)\n",
    "\n",
    "url_3 = ''\n",
    "df_3 = pd.read_excel(url_3)\n",
    "print(df_3)"
   ]
  }
 ],
 "metadata": {
  "kernelspec": {
   "display_name": "Python 3 (ipykernel)",
   "language": "python",
   "name": "python3"
  },
  "language_info": {
   "codemirror_mode": {
    "name": "ipython",
    "version": 3
   },
   "file_extension": ".py",
   "mimetype": "text/x-python",
   "name": "python",
   "nbconvert_exporter": "python",
   "pygments_lexer": "ipython3",
   "version": "3.11.5"
  }
 },
 "nbformat": 4,
 "nbformat_minor": 5
}
